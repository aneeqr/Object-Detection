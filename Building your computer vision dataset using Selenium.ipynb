{
 "cells": [
  {
   "cell_type": "markdown",
   "metadata": {},
   "source": [
    "## Loading all libaries."
   ]
  },
  {
   "cell_type": "code",
   "execution_count": 2,
   "metadata": {},
   "outputs": [],
   "source": [
    "import os\n",
    "import time\n",
    "import urllib.request\n",
    "from selenium import webdriver\n",
    "from selenium.webdriver.common.keys import Keys"
   ]
  },
  {
   "cell_type": "markdown",
   "metadata": {},
   "source": [
    "This tutorial is adapted from [This Link](https://dev.to/sourabhsinha396/scrapping-google-images-to-create-mask-no-mask-dataset-using-selenium-2gn9)"
   ]
  },
  {
   "cell_type": "markdown",
   "metadata": {},
   "source": [
    "### Download the Driver"
   ]
  },
  {
   "cell_type": "markdown",
   "metadata": {},
   "source": [
    "Download the driver from this [Website](https://sites.google.com/a/chromium.org/chromedriver/downloads)."
   ]
  },
  {
   "cell_type": "markdown",
   "metadata": {},
   "source": [
    "### Inspect Chrome"
   ]
  },
  {
   "cell_type": "markdown",
   "metadata": {},
   "source": [
    "Lets load the driver and open up google and inspect the chrome search bar."
   ]
  },
  {
   "cell_type": "markdown",
   "metadata": {},
   "source": [
    "![Chrome Inspect Search Box](images/chrome1.png)"
   ]
  },
  {
   "cell_type": "markdown",
   "metadata": {},
   "source": [
    "### Using Selenium"
   ]
  },
  {
   "cell_type": "markdown",
   "metadata": {},
   "source": [
    "We open up chrome and enter our phrase in the following lines."
   ]
  },
  {
   "cell_type": "code",
   "execution_count": 16,
   "metadata": {},
   "outputs": [],
   "source": [
    "search_string = 'People wearing face masks'\n",
    "driver = webdriver.Chrome(\"chromedriver_win32/chromedriver.exe\")\n",
    "driver.get('https://www.google.com/') #opens up google\n",
    "search = driver.find_element_by_name('q') # the name of the searchbox\n",
    "search.send_keys(search_string,Keys.ENTER)"
   ]
  },
  {
   "cell_type": "markdown",
   "metadata": {},
   "source": [
    "We see an automated browser pop up as shown in the picture below.\n",
    "\n",
    "![Chrome Inspect Search Box](images/chrome2.png)"
   ]
  },
  {
   "cell_type": "markdown",
   "metadata": {},
   "source": [
    "Now lets go the images tab."
   ]
  },
  {
   "cell_type": "code",
   "execution_count": 17,
   "metadata": {},
   "outputs": [],
   "source": [
    "elem = driver.find_element_by_link_text('Images')\n",
    "elem.get_attribute('href')\n",
    "elem.click()"
   ]
  },
  {
   "cell_type": "markdown",
   "metadata": {},
   "source": [
    "![Chrome Inspect Search Box](images/chrome3.png)"
   ]
  },
  {
   "cell_type": "markdown",
   "metadata": {},
   "source": [
    "Scroll the page a set number of times."
   ]
  },
  {
   "cell_type": "code",
   "execution_count": 18,
   "metadata": {},
   "outputs": [],
   "source": [
    "value = 0\n",
    "for i in range(10):  #Scrolls the page 10 times\n",
    "    driver.execute_script('scrollBy(\"+ str(value) +\",+100);')\n",
    "    value += 100\n",
    "    time.sleep(4)"
   ]
  },
  {
   "cell_type": "markdown",
   "metadata": {},
   "source": [
    "Inspect the images again to get class string"
   ]
  },
  {
   "cell_type": "markdown",
   "metadata": {},
   "source": [
    "![Chrome Inspect Search Box](images/chrome4.png)"
   ]
  },
  {
   "cell_type": "code",
   "execution_count": 19,
   "metadata": {},
   "outputs": [],
   "source": [
    "elements = driver.find_elements_by_xpath('//img[contains(@class,\"rg_i\") and contains(@class, \"Q4LuWd\")]')\n"
   ]
  },
  {
   "cell_type": "markdown",
   "metadata": {},
   "source": [
    "This retireves all the elements."
   ]
  },
  {
   "cell_type": "code",
   "execution_count": 20,
   "metadata": {},
   "outputs": [
    {
     "data": {
      "text/plain": [
       "[<selenium.webdriver.remote.webelement.WebElement (session=\"69dc0bd67f5fdf7dc9ff7c2628b29700\", element=\"afbd5776-d0f9-4c15-b4e0-f746e8575b43\")>,\n",
       " <selenium.webdriver.remote.webelement.WebElement (session=\"69dc0bd67f5fdf7dc9ff7c2628b29700\", element=\"0232ac41-2439-41aa-867d-e4e2d88773f7\")>,\n",
       " <selenium.webdriver.remote.webelement.WebElement (session=\"69dc0bd67f5fdf7dc9ff7c2628b29700\", element=\"d807b87a-29b4-41dc-88e9-a26b533d36dd\")>,\n",
       " <selenium.webdriver.remote.webelement.WebElement (session=\"69dc0bd67f5fdf7dc9ff7c2628b29700\", element=\"4f97ffb6-3c8e-4163-bc14-b5ab2b0f07da\")>,\n",
       " <selenium.webdriver.remote.webelement.WebElement (session=\"69dc0bd67f5fdf7dc9ff7c2628b29700\", element=\"497baf56-d8b9-4fa8-83ee-721bee505bcc\")>,\n",
       " <selenium.webdriver.remote.webelement.WebElement (session=\"69dc0bd67f5fdf7dc9ff7c2628b29700\", element=\"1f47d0cb-a0c3-414a-a1d3-c7e416e3bcdf\")>,\n",
       " <selenium.webdriver.remote.webelement.WebElement (session=\"69dc0bd67f5fdf7dc9ff7c2628b29700\", element=\"b4f1df85-96d6-47c4-be89-f44f6660ad8c\")>,\n",
       " <selenium.webdriver.remote.webelement.WebElement (session=\"69dc0bd67f5fdf7dc9ff7c2628b29700\", element=\"1767a651-31df-45de-a450-3e19b85270af\")>,\n",
       " <selenium.webdriver.remote.webelement.WebElement (session=\"69dc0bd67f5fdf7dc9ff7c2628b29700\", element=\"48ce5cd4-0857-43e2-8d72-7911440756fb\")>,\n",
       " <selenium.webdriver.remote.webelement.WebElement (session=\"69dc0bd67f5fdf7dc9ff7c2628b29700\", element=\"718b34e4-1bd9-4a42-bae2-2d9ff6ea3bbe\")>,\n",
       " <selenium.webdriver.remote.webelement.WebElement (session=\"69dc0bd67f5fdf7dc9ff7c2628b29700\", element=\"943f416f-2f8c-4578-a363-28e6a9e6a5eb\")>,\n",
       " <selenium.webdriver.remote.webelement.WebElement (session=\"69dc0bd67f5fdf7dc9ff7c2628b29700\", element=\"b56965b3-2db0-4f3d-b8ef-f5fd5156c6c4\")>,\n",
       " <selenium.webdriver.remote.webelement.WebElement (session=\"69dc0bd67f5fdf7dc9ff7c2628b29700\", element=\"e60ba04e-80d9-4b52-94ea-4a5cf12ca64a\")>,\n",
       " <selenium.webdriver.remote.webelement.WebElement (session=\"69dc0bd67f5fdf7dc9ff7c2628b29700\", element=\"425b3931-5ea7-478a-9216-ea96c96183a8\")>,\n",
       " <selenium.webdriver.remote.webelement.WebElement (session=\"69dc0bd67f5fdf7dc9ff7c2628b29700\", element=\"8b7461ad-9c40-4aea-85f7-f6a94606ddb4\")>,\n",
       " <selenium.webdriver.remote.webelement.WebElement (session=\"69dc0bd67f5fdf7dc9ff7c2628b29700\", element=\"a32e6c22-53a5-4552-adb2-b3c8029785be\")>,\n",
       " <selenium.webdriver.remote.webelement.WebElement (session=\"69dc0bd67f5fdf7dc9ff7c2628b29700\", element=\"82cf284d-6122-441d-adfe-609098dae98e\")>,\n",
       " <selenium.webdriver.remote.webelement.WebElement (session=\"69dc0bd67f5fdf7dc9ff7c2628b29700\", element=\"ec7dae7c-f548-424b-a5e7-aa340dedea20\")>,\n",
       " <selenium.webdriver.remote.webelement.WebElement (session=\"69dc0bd67f5fdf7dc9ff7c2628b29700\", element=\"b9f2678d-4cf0-4f2e-9341-a0beba2c7ae0\")>,\n",
       " <selenium.webdriver.remote.webelement.WebElement (session=\"69dc0bd67f5fdf7dc9ff7c2628b29700\", element=\"ba1ac9eb-0893-4f6f-8dec-180369a19fc0\")>,\n",
       " <selenium.webdriver.remote.webelement.WebElement (session=\"69dc0bd67f5fdf7dc9ff7c2628b29700\", element=\"5a58108f-da92-445a-9377-9952f24e6b73\")>,\n",
       " <selenium.webdriver.remote.webelement.WebElement (session=\"69dc0bd67f5fdf7dc9ff7c2628b29700\", element=\"6776474d-ba98-4f68-bb28-e31e830f3945\")>,\n",
       " <selenium.webdriver.remote.webelement.WebElement (session=\"69dc0bd67f5fdf7dc9ff7c2628b29700\", element=\"06c1a771-ca7b-4687-bdbb-c83d2a70769e\")>,\n",
       " <selenium.webdriver.remote.webelement.WebElement (session=\"69dc0bd67f5fdf7dc9ff7c2628b29700\", element=\"b9bbdd51-2f74-4348-94b7-8b6274d2e443\")>,\n",
       " <selenium.webdriver.remote.webelement.WebElement (session=\"69dc0bd67f5fdf7dc9ff7c2628b29700\", element=\"dcac0ef3-c55a-444f-aa22-4c82e13cf3f3\")>,\n",
       " <selenium.webdriver.remote.webelement.WebElement (session=\"69dc0bd67f5fdf7dc9ff7c2628b29700\", element=\"b1771091-9fdb-4b41-8991-4684adf4a2ba\")>,\n",
       " <selenium.webdriver.remote.webelement.WebElement (session=\"69dc0bd67f5fdf7dc9ff7c2628b29700\", element=\"c4779443-899f-427f-a76c-2e01eb9bdca9\")>,\n",
       " <selenium.webdriver.remote.webelement.WebElement (session=\"69dc0bd67f5fdf7dc9ff7c2628b29700\", element=\"59df8610-9e4d-4107-a7a0-97f197584fa7\")>,\n",
       " <selenium.webdriver.remote.webelement.WebElement (session=\"69dc0bd67f5fdf7dc9ff7c2628b29700\", element=\"97e4ee6a-fd4b-4287-88e6-93785816b7f6\")>,\n",
       " <selenium.webdriver.remote.webelement.WebElement (session=\"69dc0bd67f5fdf7dc9ff7c2628b29700\", element=\"583c24f7-0651-48d1-af0e-bcd9b36eaf86\")>,\n",
       " <selenium.webdriver.remote.webelement.WebElement (session=\"69dc0bd67f5fdf7dc9ff7c2628b29700\", element=\"308c2df5-aa44-4193-857f-5e799a0fa923\")>,\n",
       " <selenium.webdriver.remote.webelement.WebElement (session=\"69dc0bd67f5fdf7dc9ff7c2628b29700\", element=\"81cd5dd9-9d1e-4063-a7e5-7af2bb2c58e5\")>,\n",
       " <selenium.webdriver.remote.webelement.WebElement (session=\"69dc0bd67f5fdf7dc9ff7c2628b29700\", element=\"88397b49-09ab-4612-a7ef-291526ed76be\")>,\n",
       " <selenium.webdriver.remote.webelement.WebElement (session=\"69dc0bd67f5fdf7dc9ff7c2628b29700\", element=\"51532b11-5ad2-4aa2-bf7b-b4758af9c346\")>,\n",
       " <selenium.webdriver.remote.webelement.WebElement (session=\"69dc0bd67f5fdf7dc9ff7c2628b29700\", element=\"b0ee93c5-756a-4502-b6c6-11dd5b70a8fa\")>,\n",
       " <selenium.webdriver.remote.webelement.WebElement (session=\"69dc0bd67f5fdf7dc9ff7c2628b29700\", element=\"4e481912-135a-46ad-b238-8245642b0a4b\")>,\n",
       " <selenium.webdriver.remote.webelement.WebElement (session=\"69dc0bd67f5fdf7dc9ff7c2628b29700\", element=\"83524b2e-47b2-4762-be08-8c7ee251a309\")>,\n",
       " <selenium.webdriver.remote.webelement.WebElement (session=\"69dc0bd67f5fdf7dc9ff7c2628b29700\", element=\"628d8a89-129b-4d11-8f7c-5405268979f8\")>,\n",
       " <selenium.webdriver.remote.webelement.WebElement (session=\"69dc0bd67f5fdf7dc9ff7c2628b29700\", element=\"ea2f65fd-e0dd-4627-9bb5-4b9414986fc5\")>,\n",
       " <selenium.webdriver.remote.webelement.WebElement (session=\"69dc0bd67f5fdf7dc9ff7c2628b29700\", element=\"d5a072d0-e17c-40a7-9117-896acca0078e\")>,\n",
       " <selenium.webdriver.remote.webelement.WebElement (session=\"69dc0bd67f5fdf7dc9ff7c2628b29700\", element=\"75e40a0d-2c1d-4445-9972-100c5ae59efb\")>,\n",
       " <selenium.webdriver.remote.webelement.WebElement (session=\"69dc0bd67f5fdf7dc9ff7c2628b29700\", element=\"f1de85db-f1a7-4bef-b79a-a8182ea6d859\")>,\n",
       " <selenium.webdriver.remote.webelement.WebElement (session=\"69dc0bd67f5fdf7dc9ff7c2628b29700\", element=\"01564343-830a-4ed4-abec-61b64d0cb6b2\")>,\n",
       " <selenium.webdriver.remote.webelement.WebElement (session=\"69dc0bd67f5fdf7dc9ff7c2628b29700\", element=\"e2691a01-606b-4869-9ad1-3d918dea65fc\")>,\n",
       " <selenium.webdriver.remote.webelement.WebElement (session=\"69dc0bd67f5fdf7dc9ff7c2628b29700\", element=\"471d3d1a-895e-40d3-b994-9ecb86533861\")>,\n",
       " <selenium.webdriver.remote.webelement.WebElement (session=\"69dc0bd67f5fdf7dc9ff7c2628b29700\", element=\"8e6fe290-2d9d-4241-8593-14743e0bb53c\")>,\n",
       " <selenium.webdriver.remote.webelement.WebElement (session=\"69dc0bd67f5fdf7dc9ff7c2628b29700\", element=\"44933621-5545-4e42-85d9-391a018fdc35\")>,\n",
       " <selenium.webdriver.remote.webelement.WebElement (session=\"69dc0bd67f5fdf7dc9ff7c2628b29700\", element=\"22f4fa71-54b0-4f52-9f3a-cdb8166b9250\")>,\n",
       " <selenium.webdriver.remote.webelement.WebElement (session=\"69dc0bd67f5fdf7dc9ff7c2628b29700\", element=\"30eda2c6-cc7f-4a68-aae7-aeb0c3f7e650\")>,\n",
       " <selenium.webdriver.remote.webelement.WebElement (session=\"69dc0bd67f5fdf7dc9ff7c2628b29700\", element=\"205f21fd-e06a-490e-bba7-3d2eb8ef0a3e\")>]"
      ]
     },
     "execution_count": 20,
     "metadata": {},
     "output_type": "execute_result"
    }
   ],
   "source": [
    "elements"
   ]
  },
  {
   "cell_type": "markdown",
   "metadata": {},
   "source": [
    "Make a directory to store downloads."
   ]
  },
  {
   "cell_type": "code",
   "execution_count": 21,
   "metadata": {},
   "outputs": [],
   "source": [
    "try:\n",
    "    os.mkdir('seleniumdownloads')\n",
    "except FileExistsError:\n",
    "    pass\n"
   ]
  },
  {
   "cell_type": "markdown",
   "metadata": {},
   "source": [
    "The src tag contains the image url and we retireve that image url."
   ]
  },
  {
   "cell_type": "code",
   "execution_count": 22,
   "metadata": {},
   "outputs": [
    {
     "name": "stdout",
     "output_type": "stream",
     "text": [
      "downloaded 5 images\n",
      "downloaded 10 images\n",
      "downloaded 15 images\n",
      "downloaded 20 images\n",
      "downloaded 25 images\n",
      "downloaded 30 images\n",
      "downloaded 35 images\n"
     ]
    }
   ],
   "source": [
    "count = 0\n",
    "for i in elements:\n",
    "    src = i.get_attribute('src')\n",
    "    try:\n",
    "        if src != None:\n",
    "            src  = str(src)\n",
    "            count+=1\n",
    "            urllib.request.urlretrieve(src, os.path.join('seleniumdownloads','image'+str(count)+'.jpg'))\n",
    "            if count%5 == 0: \n",
    "                print(\"downloaded\",count,\"images\")\n",
    "        else:\n",
    "            raise TypeError\n",
    "    except TypeError:\n",
    "        pass\n"
   ]
  },
  {
   "cell_type": "code",
   "execution_count": null,
   "metadata": {},
   "outputs": [],
   "source": []
  }
 ],
 "metadata": {
  "kernelspec": {
   "display_name": "tf_obj2",
   "language": "python",
   "name": "tf_obj2"
  },
  "language_info": {
   "codemirror_mode": {
    "name": "ipython",
    "version": 3
   },
   "file_extension": ".py",
   "mimetype": "text/x-python",
   "name": "python",
   "nbconvert_exporter": "python",
   "pygments_lexer": "ipython3",
   "version": "3.6.11"
  }
 },
 "nbformat": 4,
 "nbformat_minor": 4
}
